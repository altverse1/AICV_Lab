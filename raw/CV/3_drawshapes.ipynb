{
 "cells": [
  {
   "cell_type": "code",
   "execution_count": 19,
   "id": "4c596bbb-b9af-4e35-a259-e40f9b65174b",
   "metadata": {
    "tags": []
   },
   "outputs": [],
   "source": [
    "import cv2\n",
    "import numpy as np"
   ]
  },
  {
   "cell_type": "code",
   "execution_count": 20,
   "id": "355e608d-1a31-401d-8706-3d4a8de5f281",
   "metadata": {
    "tags": []
   },
   "outputs": [],
   "source": [
    "img = np.zeros((500, 500, 3), dtype='uint8')\n",
    "img[0:500, :] = [138, 138, 138]\n"
   ]
  },
  {
   "cell_type": "code",
   "execution_count": 21,
   "id": "74e09fec-83a3-4d49-b774-e3eae4a0dd3e",
   "metadata": {
    "tags": []
   },
   "outputs": [],
   "source": [
    "cv2.line(img, (0,0), (500, 500), (0, 0, 255), 5)\n",
    "cv2.rectangle(img, (0, 0), (500, 500), (0, 255, 0), 10)\n",
    "cv2.circle(img, (250, 250), 50, (255, 0 , 0), 15)\n",
    "cv2.putText(img, \"This is zawarudo\", (125, 250), cv2.FONT_HERSHEY_SIMPLEX, 1, (255, 255, 0), 2, cv2.LINE_AA )\n",
    "cv2.imshow(\"\", img)\n",
    "cv2.waitKey(0)\n",
    "cv2.destroyAllWindows()"
   ]
  },
  {
   "cell_type": "code",
   "execution_count": null,
   "id": "6efc55f4-e294-458f-ae4c-4a81acd53a0b",
   "metadata": {},
   "outputs": [],
   "source": []
  }
 ],
 "metadata": {
  "kernelspec": {
   "display_name": "Python 3 (ipykernel)",
   "language": "python",
   "name": "python3"
  },
  "language_info": {
   "codemirror_mode": {
    "name": "ipython",
    "version": 3
   },
   "file_extension": ".py",
   "mimetype": "text/x-python",
   "name": "python",
   "nbconvert_exporter": "python",
   "pygments_lexer": "ipython3",
   "version": "3.10.13"
  }
 },
 "nbformat": 4,
 "nbformat_minor": 5
}
