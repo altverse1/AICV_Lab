{
 "cells": [
  {
   "cell_type": "code",
   "execution_count": 1,
   "id": "9ea97851-b7e5-411e-aa56-c6681765f820",
   "metadata": {
    "tags": []
   },
   "outputs": [],
   "source": [
    "import cv2\n",
    "import numpy as np\n",
    "import matplotlib.pyplot as plt"
   ]
  },
  {
   "cell_type": "code",
   "execution_count": 2,
   "id": "c9ef5a85-9904-49a2-9814-02e5b8eff02c",
   "metadata": {
    "tags": []
   },
   "outputs": [],
   "source": [
    "img = cv2.imread(\"../imagedata/gumball.jpeg\")"
   ]
  },
  {
   "cell_type": "markdown",
   "id": "181cdaef-65f8-4e6f-b515-b20086f58c0e",
   "metadata": {},
   "source": [
    "## Thresholding"
   ]
  },
  {
   "cell_type": "code",
   "execution_count": 3,
   "id": "90e864aa-c9cb-472f-9303-6573e812bfd2",
   "metadata": {
    "tags": []
   },
   "outputs": [],
   "source": [
    "ret, thresh_bin = cv2.threshold(img, 120, 255,  cv2.THRESH_BINARY)\n",
    "ret, thresh_inv = cv2.threshold(img, 120, 255, cv2.THRESH_BINARY_INV)\n",
    "ret, thresh_tzo = cv2.threshold(img, 120, 255, cv2.THRESH_TOZERO)\n",
    "ret, thresh_itz = cv2.threshold(img, 120, 255, cv2.THRESH_TOZERO_INV)\n",
    "\n",
    "cv2.imshow(\"Binary Thresholding\", thresh_bin)\n",
    "cv2.imshow(\"Inverted Binary Thresholding\", thresh_inv)\n",
    "cv2.imshow(\"ToZero Thresholding\", thresh_tzo)\n",
    "cv2.imshow(\"Inverted ToZero Thresholding\", thresh_itz)\n",
    "cv2.waitKey(0)\n",
    "cv2.destroyAllWindows()"
   ]
  },
  {
   "cell_type": "markdown",
   "id": "f777cc96-9742-4ee0-9e4f-4c7a28b87a14",
   "metadata": {},
   "source": [
    "## Edge Detection"
   ]
  },
  {
   "cell_type": "code",
   "execution_count": 4,
   "id": "f185ce16-0b23-4c42-a8bd-c1dfebb7e303",
   "metadata": {
    "tags": []
   },
   "outputs": [],
   "source": [
    "gray = cv2.cvtColor(img, cv2.COLOR_BGR2GRAY)\n",
    "blurred = cv2.GaussianBlur(gray, (5, 5), 0)\n",
    "edged = cv2.Canny(blurred, 5, 50)\n",
    "\n",
    "cv2.imshow(\"Edge Detection\", edged)\n",
    "cv2.waitKey(0)\n",
    "cv2.destroyAllWindows()"
   ]
  },
  {
   "cell_type": "markdown",
   "id": "65fddcb6-3ea9-4352-ad41-032e8b6f3ab4",
   "metadata": {},
   "source": [
    "## Contour Detection"
   ]
  },
  {
   "cell_type": "code",
   "execution_count": 6,
   "id": "8639783e-1163-48ea-9858-b3400f863861",
   "metadata": {
    "tags": []
   },
   "outputs": [],
   "source": [
    "contours, _ = cv2.findContours(edged, cv2.RETR_EXTERNAL, cv2.CHAIN_APPROX_SIMPLE)\n",
    "img2 = img.copy()\n",
    "cv2.drawContours(img2, contours, -1, (0, 255, 0), 2)\n",
    "\n",
    "cv2.imshow(\"Contoured\", img2)\n",
    "cv2.waitKey(0)\n",
    "cv2.destroyAllWindows()"
   ]
  },
  {
   "cell_type": "code",
   "execution_count": null,
   "id": "ecd00da5-85f2-4b3e-93b5-ede1ccd30c58",
   "metadata": {},
   "outputs": [],
   "source": []
  }
 ],
 "metadata": {
  "kernelspec": {
   "display_name": "Python 3 (ipykernel)",
   "language": "python",
   "name": "python3"
  },
  "language_info": {
   "codemirror_mode": {
    "name": "ipython",
    "version": 3
   },
   "file_extension": ".py",
   "mimetype": "text/x-python",
   "name": "python",
   "nbconvert_exporter": "python",
   "pygments_lexer": "ipython3",
   "version": "3.10.13"
  }
 },
 "nbformat": 4,
 "nbformat_minor": 5
}
