{
 "cells": [
  {
   "cell_type": "code",
   "execution_count": 1,
   "id": "5a22fc00-71b0-49e8-b031-bebd90c25535",
   "metadata": {
    "tags": []
   },
   "outputs": [],
   "source": [
    "import cv2"
   ]
  },
  {
   "cell_type": "code",
   "execution_count": 2,
   "id": "d7c5ae67-df8e-4db9-b662-6dd8babe1b0f",
   "metadata": {
    "tags": []
   },
   "outputs": [],
   "source": [
    "img = cv2.imread(\"../imagedata/face.jpg\")\n",
    "gray_img = cv2.cvtColor(img, cv2.COLOR_BGR2GRAY)"
   ]
  },
  {
   "cell_type": "markdown",
   "id": "fb411efa-6edc-4b81-b01f-cfa152ebeaf0",
   "metadata": {},
   "source": [
    "## Face Detection"
   ]
  },
  {
   "cell_type": "code",
   "execution_count": 5,
   "id": "74dffa66-5ed7-4194-be09-8f656c0828ca",
   "metadata": {
    "tags": []
   },
   "outputs": [],
   "source": [
    "haar_face = cv2.CascadeClassifier(cv2.data.haarcascades + 'haarcascade_frontalface_default.xml')\n",
    "faces = haar_face.detectMultiScale(gray_img, 1.1, 12)\n",
    "\n",
    "faceimg = img.copy()\n",
    "\n",
    "for (x, y, w, h) in faces:\n",
    "    cv2.rectangle(faceimg, (x, y), (x+w, y+h), (0, 255, 0))\n",
    "    \n",
    "cv2.imshow(\"Faces\", faceimg)\n",
    "cv2.waitKey(0)\n",
    "cv2.destroyAllWindows()"
   ]
  },
  {
   "cell_type": "markdown",
   "id": "cce9ac81-dcb0-4ad7-865d-10f135e55536",
   "metadata": {},
   "source": [
    "## Eye Detection"
   ]
  },
  {
   "cell_type": "code",
   "execution_count": 8,
   "id": "b6649f9d-4b9d-462d-94b0-4e6594419c92",
   "metadata": {
    "tags": []
   },
   "outputs": [],
   "source": [
    "haar_face = cv2.CascadeClassifier(cv2.data.haarcascades + 'haarcascade_eye.xml')\n",
    "faces = haar_face.detectMultiScale(gray_img, 1.1, 12)\n",
    "\n",
    "faceimg = img.copy()\n",
    "\n",
    "for (x, y, w, h) in faces:\n",
    "    cv2.rectangle(faceimg, (x, y), (x+w, y+h), (0, 255, 0), 5)\n",
    "    \n",
    "cv2.imshow(\"Faces\", faceimg)\n",
    "cv2.waitKey(0)\n",
    "cv2.destroyAllWindows()"
   ]
  },
  {
   "cell_type": "code",
   "execution_count": null,
   "id": "e3aa3a1a-44b2-406e-b12b-ade280bd5dac",
   "metadata": {},
   "outputs": [],
   "source": []
  }
 ],
 "metadata": {
  "kernelspec": {
   "display_name": "Python 3 (ipykernel)",
   "language": "python",
   "name": "python3"
  },
  "language_info": {
   "codemirror_mode": {
    "name": "ipython",
    "version": 3
   },
   "file_extension": ".py",
   "mimetype": "text/x-python",
   "name": "python",
   "nbconvert_exporter": "python",
   "pygments_lexer": "ipython3",
   "version": "3.10.13"
  }
 },
 "nbformat": 4,
 "nbformat_minor": 5
}
