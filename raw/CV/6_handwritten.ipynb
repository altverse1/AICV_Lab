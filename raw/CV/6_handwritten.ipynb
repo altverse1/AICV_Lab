{
 "cells": [
  {
   "cell_type": "code",
   "execution_count": 1,
   "id": "4f990ebe-3674-4866-8c70-19229e346381",
   "metadata": {
    "tags": []
   },
   "outputs": [],
   "source": [
    "import cv2\n",
    "import tensorflow as tf\n",
    "from tensorflow import keras\n",
    "import matplotlib.pyplot as plt\n",
    "from keras.datasets import mnist\n",
    "from keras.utils import to_categorical"
   ]
  },
  {
   "cell_type": "code",
   "execution_count": 2,
   "id": "7011725d-927a-438d-8603-7d0491e2e15a",
   "metadata": {
    "tags": []
   },
   "outputs": [],
   "source": [
    "(x_train, y_train), (x_test, y_test) = mnist.load_data()"
   ]
  },
  {
   "cell_type": "code",
   "execution_count": 3,
   "id": "3edb9096-2a75-4f5e-bdee-a66db168fb73",
   "metadata": {
    "tags": []
   },
   "outputs": [],
   "source": [
    "x_train = x_train/255.0\n",
    "x_test = x_test/255.0"
   ]
  },
  {
   "cell_type": "code",
   "execution_count": 4,
   "id": "5aa853d8-0e9a-4714-8e6c-f705cb87e980",
   "metadata": {
    "tags": []
   },
   "outputs": [],
   "source": [
    "y_train = to_categorical(y_train)\n",
    "y_test = to_categorical(y_test)\n"
   ]
  },
  {
   "cell_type": "code",
   "execution_count": 5,
   "id": "c6d23b4c-b7f8-4429-a23a-d589aae2312d",
   "metadata": {
    "tags": []
   },
   "outputs": [
    {
     "data": {
      "text/plain": [
       "(60000, 28, 28)"
      ]
     },
     "execution_count": 5,
     "metadata": {},
     "output_type": "execute_result"
    }
   ],
   "source": [
    "x_train.shape"
   ]
  },
  {
   "cell_type": "code",
   "execution_count": 6,
   "id": "d561007a-1828-43a3-a222-9ce032701f36",
   "metadata": {
    "tags": []
   },
   "outputs": [
    {
     "name": "stdout",
     "output_type": "stream",
     "text": [
      "Epoch 1/5\n",
      "1875/1875 [==============================] - 3s 1ms/step - loss: 0.2593 - accuracy: 0.9260 - val_loss: 0.1357 - val_accuracy: 0.9598\n",
      "Epoch 2/5\n",
      "1875/1875 [==============================] - 3s 1ms/step - loss: 0.1161 - accuracy: 0.9662 - val_loss: 0.1017 - val_accuracy: 0.9680\n",
      "Epoch 3/5\n",
      "1875/1875 [==============================] - 3s 1ms/step - loss: 0.0801 - accuracy: 0.9758 - val_loss: 0.0868 - val_accuracy: 0.9713\n",
      "Epoch 4/5\n",
      "1875/1875 [==============================] - 3s 1ms/step - loss: 0.0607 - accuracy: 0.9822 - val_loss: 0.0799 - val_accuracy: 0.9744\n",
      "Epoch 5/5\n",
      "1875/1875 [==============================] - 3s 1ms/step - loss: 0.0457 - accuracy: 0.9854 - val_loss: 0.0723 - val_accuracy: 0.9784\n"
     ]
    }
   ],
   "source": [
    "from keras.layers import Flatten, Dense\n",
    "\n",
    "model = keras.Sequential([\n",
    "    Flatten(input_shape=(28,28)),\n",
    "    Dense(128, activation='relu'),\n",
    "    Dense(10, activation='softmax')    \n",
    "])\n",
    "\n",
    "model.compile(optimizer='adam', loss='categorical_crossentropy', metrics=['accuracy'])\n",
    "history = model.fit(x_train, y_train, validation_data=(x_test, y_test), epochs=5)\n"
   ]
  },
  {
   "cell_type": "code",
   "execution_count": 8,
   "id": "2b410c0d-46c0-4047-9a57-707761ed8387",
   "metadata": {
    "tags": []
   },
   "outputs": [
    {
     "name": "stdout",
     "output_type": "stream",
     "text": [
      "313/313 [==============================] - 0s 758us/step\n",
      "Image number: 1\n",
      "YESSSS as pred:7 and truth:7\n",
      "\n",
      "Image number: 2\n",
      "YESSSS as pred:2 and truth:2\n",
      "\n",
      "Image number: 3\n",
      "YESSSS as pred:1 and truth:1\n",
      "\n",
      "Image number: 4\n",
      "YESSSS as pred:0 and truth:0\n",
      "\n",
      "Image number: 5\n",
      "YESSSS as pred:4 and truth:4\n",
      "\n",
      "Image number: 6\n",
      "YESSSS as pred:1 and truth:1\n",
      "\n",
      "Image number: 7\n",
      "YESSSS as pred:4 and truth:4\n",
      "\n",
      "Image number: 8\n",
      "YESSSS as pred:9 and truth:9\n",
      "\n",
      "Image number: 9\n",
      "YESSSS as pred:5 and truth:5\n",
      "\n",
      "Image number: 10\n",
      "YESSSS as pred:9 and truth:9\n",
      "\n",
      "Image number: 11\n",
      "YESSSS as pred:0 and truth:0\n",
      "\n",
      "Image number: 12\n",
      "YESSSS as pred:6 and truth:6\n",
      "\n",
      "Image number: 13\n",
      "YESSSS as pred:9 and truth:9\n",
      "\n",
      "Image number: 14\n",
      "YESSSS as pred:0 and truth:0\n",
      "\n",
      "Image number: 15\n",
      "YESSSS as pred:1 and truth:1\n",
      "\n",
      "Image number: 16\n",
      "YESSSS as pred:5 and truth:5\n",
      "\n",
      "Image number: 17\n",
      "YESSSS as pred:9 and truth:9\n",
      "\n",
      "Image number: 18\n",
      "YESSSS as pred:7 and truth:7\n",
      "\n",
      "Image number: 19\n",
      "YESSSS as pred:3 and truth:3\n",
      "\n",
      "Image number: 20\n",
      "YESSSS as pred:4 and truth:4\n",
      "\n",
      "Image number: 21\n",
      "YESSSS as pred:9 and truth:9\n",
      "\n",
      "Image number: 22\n",
      "YESSSS as pred:6 and truth:6\n",
      "\n",
      "Image number: 23\n",
      "YESSSS as pred:6 and truth:6\n",
      "\n",
      "Image number: 24\n",
      "YESSSS as pred:5 and truth:5\n",
      "\n",
      "Image number: 25\n",
      "YESSSS as pred:4 and truth:4\n",
      "\n"
     ]
    }
   ],
   "source": [
    "predictions = model.predict(x_test)\n",
    "for i in range(25):\n",
    "    pred = predictions[i].argmax()\n",
    "    truth = y_test[i].argmax()\n",
    "    result = 'YESSSS' if pred == truth else 'Noooo'\n",
    "    print(f'Image number: {i+1}\\n{result} as pred:{pred} and truth:{truth}\\n')\n",
    "    cv2.imshow(f\"Image number: {i}\", x_test[i])\n",
    "cv2.waitKey(0)\n",
    "cv2.destroyAllWindows()"
   ]
  },
  {
   "cell_type": "code",
   "execution_count": null,
   "id": "579fdcdb-6b76-48ac-9b20-d7032d096eda",
   "metadata": {},
   "outputs": [],
   "source": []
  }
 ],
 "metadata": {
  "kernelspec": {
   "display_name": "Python 3 (ipykernel)",
   "language": "python",
   "name": "python3"
  },
  "language_info": {
   "codemirror_mode": {
    "name": "ipython",
    "version": 3
   },
   "file_extension": ".py",
   "mimetype": "text/x-python",
   "name": "python",
   "nbconvert_exporter": "python",
   "pygments_lexer": "ipython3",
   "version": "3.10.13"
  }
 },
 "nbformat": 4,
 "nbformat_minor": 5
}
