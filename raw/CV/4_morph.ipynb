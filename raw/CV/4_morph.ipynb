{
 "cells": [
  {
   "cell_type": "code",
   "execution_count": 1,
   "id": "837c2852-cb68-4a47-9b7c-69c6f52adafa",
   "metadata": {
    "tags": []
   },
   "outputs": [],
   "source": [
    "import cv2\n",
    "import numpy as np"
   ]
  },
  {
   "cell_type": "code",
   "execution_count": 2,
   "id": "3b4f4262-db5a-4181-9c7f-b99e4f2c6969",
   "metadata": {
    "tags": []
   },
   "outputs": [],
   "source": [
    "def display(image, text=\"\"):\n",
    "    cv2.imshow(text, image)\n",
    "    cv2.waitKey(0)\n",
    "    cv2.destroyAllWindows()"
   ]
  },
  {
   "cell_type": "code",
   "execution_count": 3,
   "id": "1073883a-db42-4824-b049-350652b70d4b",
   "metadata": {
    "tags": []
   },
   "outputs": [],
   "source": [
    "img = cv2.imread(\"../imagedata/imgabcd.jpg\")\n",
    "display(img, \"Original Image\")"
   ]
  },
  {
   "cell_type": "code",
   "execution_count": 4,
   "id": "67a09385-6352-4dae-a609-c1b2d97d5ac4",
   "metadata": {
    "tags": []
   },
   "outputs": [],
   "source": [
    "kernel = np.ones((5, 5),'uint8')"
   ]
  },
  {
   "cell_type": "markdown",
   "id": "86c5a7c1-4c27-4e75-8da2-83050e161fb5",
   "metadata": {},
   "source": [
    "## Erosion"
   ]
  },
  {
   "cell_type": "code",
   "execution_count": 5,
   "id": "b8df803f-04c8-406c-b882-375cddfd6eb9",
   "metadata": {
    "tags": []
   },
   "outputs": [],
   "source": [
    "display(cv2.erode(img, kernel, iterations=1), \"Erode\")"
   ]
  },
  {
   "cell_type": "markdown",
   "id": "005097fb-efb7-4699-9b4e-6780c99e493d",
   "metadata": {},
   "source": [
    "## Dilation"
   ]
  },
  {
   "cell_type": "code",
   "execution_count": 6,
   "id": "5235c8c6-3d55-436b-abb5-c7a3a98c07a2",
   "metadata": {
    "tags": []
   },
   "outputs": [],
   "source": [
    "display(cv2.dilate(img, kernel, iterations=1), \"Dilate\")"
   ]
  },
  {
   "cell_type": "markdown",
   "id": "19b8eb2b-6d49-4992-b1d3-c56f013c7c19",
   "metadata": {},
   "source": [
    "## Opening"
   ]
  },
  {
   "cell_type": "code",
   "execution_count": 7,
   "id": "6f0457d1-f6f6-4beb-b5bf-bd94553c00ac",
   "metadata": {
    "tags": []
   },
   "outputs": [],
   "source": [
    "display(cv2.morphologyEx(img, cv2.MORPH_OPEN, kernel, iterations=1), \"Opening\")"
   ]
  },
  {
   "cell_type": "markdown",
   "id": "c7f8b1ca-c0a9-467f-b563-c86286dda3d9",
   "metadata": {},
   "source": [
    "## Closing"
   ]
  },
  {
   "cell_type": "code",
   "execution_count": 8,
   "id": "d495ad68-99ca-4f9f-acd7-273d37f0b7e5",
   "metadata": {
    "tags": []
   },
   "outputs": [],
   "source": [
    "display(cv2.morphologyEx(img, cv2.MORPH_CLOSE, kernel, iterations=1), \"Closing\")"
   ]
  },
  {
   "cell_type": "markdown",
   "id": "dc57d7f5-8371-4c06-ac4e-b166f87d136d",
   "metadata": {},
   "source": [
    "## Gradient"
   ]
  },
  {
   "cell_type": "code",
   "execution_count": 9,
   "id": "b07ae665-8661-49a7-a898-c4edc916655b",
   "metadata": {
    "tags": []
   },
   "outputs": [],
   "source": [
    "display(cv2.morphologyEx(img, cv2.MORPH_GRADIENT, kernel, iterations=1), \"Gradient\")"
   ]
  }
 ],
 "metadata": {
  "kernelspec": {
   "display_name": "Python 3 (ipykernel)",
   "language": "python",
   "name": "python3"
  },
  "language_info": {
   "codemirror_mode": {
    "name": "ipython",
    "version": 3
   },
   "file_extension": ".py",
   "mimetype": "text/x-python",
   "name": "python",
   "nbconvert_exporter": "python",
   "pygments_lexer": "ipython3",
   "version": "3.10.13"
  }
 },
 "nbformat": 4,
 "nbformat_minor": 5
}
