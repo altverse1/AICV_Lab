{
 "cells": [
  {
   "cell_type": "markdown",
   "metadata": {},
   "source": [
    "# Implement thresholding, edge detection, contour detection"
   ]
  },
  {
   "cell_type": "code",
   "execution_count": 2,
   "metadata": {},
   "outputs": [],
   "source": [
    "import cv2\n",
    "image = cv2.imread('../imagedata/gumball.jpeg')\n",
    "gray = cv2.cvtColor(image, cv2.COLOR_BGR2GRAY)\n",
    "blurred = cv2.GaussianBlur(gray, (3,3), 0)\n",
    "t1_values = [10, 30, 240]\n",
    "t2_values = [100, 150, 250]\n",
    "\n",
    "for t1, t2 in zip(t1_values, t2_values):\n",
    "    edged = cv2.Canny(blurred, t1, t2)\n",
    "    cv2.imshow(\"Original image\", image)\n",
    "    cv2.imshow(f\"Edged Image (t1={t1}, t2={t2})\", edged)\n",
    "    cv2.waitKey(0)\n",
    "    cv2.destroyAllWindows()\n"
   ]
  },
  {
   "cell_type": "markdown",
   "metadata": {},
   "source": [
    "## Contours"
   ]
  },
  {
   "cell_type": "code",
   "execution_count": 3,
   "metadata": {},
   "outputs": [
    {
     "name": "stdout",
     "output_type": "stream",
     "text": [
      "60 objects were found in this image\n"
     ]
    }
   ],
   "source": [
    "contours, _ = cv2.findContours(edged, cv2.RETR_EXTERNAL, cv2.CHAIN_APPROX_SIMPLE)\n",
    "image_copy = image.copy()\n",
    "cv2.drawContours(image_copy, contours, -1, (0,255,0),2)\n",
    "print(len(contours), \"objects were found in this image\")\n",
    "cv2.imshow(\"Edged Image\", edged)\n",
    "cv2.imshow(\"contours\",image_copy)\n",
    "cv2.waitKey(0)\n",
    "cv2.destroyAllWindows()"
   ]
  }
 ],
 "metadata": {
  "kernelspec": {
   "display_name": "Python 3.10.4 64-bit",
   "language": "python",
   "name": "python3"
  },
  "language_info": {
   "codemirror_mode": {
    "name": "ipython",
    "version": 3
   },
   "file_extension": ".py",
   "mimetype": "text/x-python",
   "name": "python",
   "nbconvert_exporter": "python",
   "pygments_lexer": "ipython3",
   "version": "3.10.4"
  },
  "orig_nbformat": 4,
  "vscode": {
   "interpreter": {
    "hash": "916dbcbb3f70747c44a77c7bcd40155683ae19c65e1c03b4aa3499c5328201f1"
   }
  }
 },
 "nbformat": 4,
 "nbformat_minor": 2
}
