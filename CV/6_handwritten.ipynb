{
  "nbformat": 4,
  "nbformat_minor": 0,
  "metadata": {
    "colab": {
      "provenance": [],
      "authorship_tag": "ABX9TyNa9QQ7wW2oTgXkjEvnel7a"
    },
    "kernelspec": {
      "name": "python3",
      "display_name": "Python 3"
    },
    "language_info": {
      "name": "python"
    }
  },
  "cells": [
    {
      "cell_type": "code",
      "execution_count": 1,
      "metadata": {
        "id": "HztxCB-xmwvP"
      },
      "outputs": [],
      "source": [
        "import tensorflow as tf\n",
        "from tensorflow.keras import layers, models\n",
        "from tensorflow.keras.datasets import mnist\n",
        "from tensorflow.keras.utils import to_categorical\n",
        "import matplotlib.pyplot as plt"
      ]
    },
    {
      "cell_type": "code",
      "source": [
        "(train_image, train_label), (test_image, test_label) = mnist.load_data()"
      ],
      "metadata": {
        "id": "77UA8FTonBfx"
      },
      "execution_count": 4,
      "outputs": []
    },
    {
      "cell_type": "code",
      "source": [
        "train_image = train_image/255.0\n",
        "test_image = test_image/255.0"
      ],
      "metadata": {
        "id": "kPPfqSNKnYz7"
      },
      "execution_count": 5,
      "outputs": []
    },
    {
      "cell_type": "code",
      "source": [
        "train_label = to_categorical(train_label)\n",
        "test_label = to_categorical(test_label)"
      ],
      "metadata": {
        "id": "yftL3QugnjW4"
      },
      "execution_count": 6,
      "outputs": []
    },
    {
      "cell_type": "code",
      "source": [
        "model = models.Sequential([\n",
        "    layers.Flatten(input_shape=(28,28)),  # Convert the 28x28 Image into a 1D Array\n",
        "    layers.Dense(128,activation='relu'),  # Hidden Layer with 128 Units\n",
        "    layers.Dropout(0.2),\n",
        "    layers.Dense(10,activation='softmax')  #Output Layer with 10 units\n",
        "])"
      ],
      "metadata": {
        "id": "VpLSwVL2nzK6"
      },
      "execution_count": 9,
      "outputs": []
    },
    {
      "cell_type": "code",
      "source": [
        "model.compile(optimizer='adam' , loss='categorical_crossentropy' , metrics=['accuracy'])"
      ],
      "metadata": {
        "id": "4pmxV9LYoCtJ"
      },
      "execution_count": 10,
      "outputs": []
    },
    {
      "cell_type": "code",
      "source": [],
      "metadata": {
        "id": "d_ihLpshoNQq"
      },
      "execution_count": null,
      "outputs": []
    }
  ]
}